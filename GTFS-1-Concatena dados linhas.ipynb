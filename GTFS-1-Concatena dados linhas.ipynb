{
 "cells": [
  {
   "cell_type": "code",
   "execution_count": 2,
   "id": "cb2d641c",
   "metadata": {},
   "outputs": [
    {
     "name": "stdout",
     "output_type": "stream",
     "text": [
      "Requirement already satisfied: pyarrow in c:\\users\\franc\\anaconda3\\lib\\site-packages (19.0.1)\n"
     ]
    }
   ],
   "source": [
    "!pip install pyarrow\n"
   ]
  },
  {
   "cell_type": "code",
   "execution_count": 3,
   "id": "b93e31fa",
   "metadata": {},
   "outputs": [],
   "source": [
    "import pandas as pd\n",
    "import os\n",
    "\n",
    "stops=pd.read_csv(r\"C:\\Users\\franc\\OneDrive\\Documentos\\TCC\\dados\\linhas\\stops.txt\")\n",
    "trips=pd.read_csv(r\"C:\\Users\\franc\\OneDrive\\Documentos\\TCC\\dados\\linhas\\trips.txt\")\n",
    "stop_times=pd.read_csv(r\"C:\\Users\\franc\\OneDrive\\Documentos\\TCC\\dados\\linhas\\stop_times.txt\")\n",
    "routes=pd.read_csv(r\"C:\\Users\\franc\\OneDrive\\Documentos\\TCC\\dados\\linhas\\routes.txt\")\n",
    "\n",
    "services={'USD':\"Todos\", 'U__':\"Úteis\", 'US_':\"Úteis e Sábados\", '_SD':\"Sábados e Domingos\", '__D':\"Domingos\", '_S_':\"Sábados\"}"
   ]
  },
  {
   "cell_type": "code",
   "execution_count": 4,
   "id": "bd2117f3",
   "metadata": {},
   "outputs": [],
   "source": [
    "stop_times=stop_times[['trip_id','stop_id','stop_sequence']].drop_duplicates()\n",
    "trips['route_id']=trips['route_id'].str.replace(\"-\",\"\")\n",
    "routes['route_id']=routes['route_id'].str.replace(\"-\",\"\")\n",
    "trips['service_id']=trips['service_id'].map(services)\n",
    "trips=trips.merge(stop_times,on='trip_id').merge(stops,on='stop_id')"
   ]
  },
  {
   "cell_type": "code",
   "execution_count": 5,
   "id": "e6c64926",
   "metadata": {},
   "outputs": [],
   "source": [
    "trips.to_parquet('dados/viagens.parquet', index=False)\n",
    "routes.to_parquet('dados/rotas.parquet', index=False)"
   ]
  },
  {
   "cell_type": "code",
   "execution_count": 6,
   "id": "0914a7c7",
   "metadata": {},
   "outputs": [
    {
     "data": {
      "text/plain": [
       "Index(['route_id', 'service_id', 'trip_id', 'trip_headsign', 'direction_id',\n",
       "       'shape_id', 'stop_id', 'stop_sequence', 'stop_name', 'stop_desc',\n",
       "       'stop_lat', 'stop_lon'],\n",
       "      dtype='object')"
      ]
     },
     "execution_count": 6,
     "metadata": {},
     "output_type": "execute_result"
    }
   ],
   "source": [
    "trips.columns"
   ]
  },
  {
   "cell_type": "code",
   "execution_count": 7,
   "id": "8b7a6eae",
   "metadata": {},
   "outputs": [
    {
     "data": {
      "text/plain": [
       "Index(['route_id', 'agency_id', 'route_short_name', 'route_long_name',\n",
       "       'route_type', 'route_color', 'route_text_color'],\n",
       "      dtype='object')"
      ]
     },
     "execution_count": 7,
     "metadata": {},
     "output_type": "execute_result"
    }
   ],
   "source": [
    "routes.columns"
   ]
  }
 ],
 "metadata": {
  "kernelspec": {
   "display_name": "base",
   "language": "python",
   "name": "python3"
  },
  "language_info": {
   "codemirror_mode": {
    "name": "ipython",
    "version": 3
   },
   "file_extension": ".py",
   "mimetype": "text/x-python",
   "name": "python",
   "nbconvert_exporter": "python",
   "pygments_lexer": "ipython3",
   "version": "3.9.13"
  }
 },
 "nbformat": 4,
 "nbformat_minor": 5
}
