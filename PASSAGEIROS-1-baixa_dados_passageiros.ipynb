{
 "cells": [
  {
   "cell_type": "code",
   "execution_count": 1,
   "id": "3cdfd0db",
   "metadata": {},
   "outputs": [],
   "source": [
    "from selenium import webdriver\n",
    "from selenium.webdriver.chrome.service import Service\n",
    "from selenium.webdriver.chrome.options import Options\n",
    "from selenium.webdriver.common.by import By\n",
    "import time\n",
    "from bs4 import BeautifulSoup\n",
    "import requests \n",
    "import os\n",
    "\n",
    "# Caminho para o diretório de destino\n",
    "download_dir = r'C:\\Users\\franc\\OneDrive\\Documentos\\TCC\\dados\\passageiros'\n",
    "chromedriver=r\"C:\\Users\\franc\\OneDrive\\Documentos\\TCC\\dados\\chromedriver.exe\"\n",
    "\n",
    "# Configurações do Chrome\n",
    "chrome_options = Options()\n",
    "chrome_options.headless = False  # Janela visível\n",
    "chrome_options.add_experimental_option(\"prefs\", {\n",
    "    \"download.default_directory\": download_dir,\n",
    "    \"download.prompt_for_download\": False,\n",
    "    \"download.directory_upgrade\": True,\n",
    "    \"safebrowsing.enabled\": True\n",
    "})"
   ]
  },
  {
   "cell_type": "code",
   "execution_count": null,
   "id": "6b726996",
   "metadata": {},
   "outputs": [],
   "source": [
    "paginas=[\n",
    "    'https://capital.sp.gov.br/web/mobilidade/w/passageiros-transportados-2025',\n",
    "         'https://capital.sp.gov.br/web/mobilidade/w/institucional/sptrans/acesso_a_informacao/362878',\n",
    "         'https://capital.sp.gov.br/web/mobilidade/w/institucional/sptrans/acesso_a_informacao/343693',\n",
    "         'https://capital.sp.gov.br/web/mobilidade/w/institucional/sptrans/acesso_a_informacao/322860',\n",
    "         'https://capital.sp.gov.br/web/mobilidade/w/institucional/sptrans/acesso_a_informacao/306932',\n",
    "         'https://capital.sp.gov.br/web/mobilidade/w/institucional/sptrans/acesso_a_informacao/292723',\n",
    "         'https://capital.sp.gov.br/web/mobilidade/w/institucional/sptrans/acesso_a_informacao/269652',\n",
    "         'https://capital.sp.gov.br/web/mobilidade/w/institucional/sptrans/acesso_a_informacao/247850',\n",
    "         'https://capital.sp.gov.br/web/mobilidade/w/institucional/sptrans/acesso_a_informacao/228269',\n",
    "         'https://capital.sp.gov.br/web/mobilidade/w/institucional/sptrans/acesso_a_informacao/209427',\n",
    "         'https://capital.sp.gov.br/web/mobilidade/w/institucional/sptrans/acesso_a_informacao/188767',     \n",
    "         ]\n"
   ]
  },
  {
   "cell_type": "code",
   "execution_count": 3,
   "id": "2a769bd4",
   "metadata": {},
   "outputs": [
    {
     "name": "stderr",
     "output_type": "stream",
     "text": [
      "C:\\Users\\franc\\AppData\\Local\\Temp\\ipykernel_8140\\2745727008.py:2: DeprecationWarning: executable_path has been deprecated, please pass in a Service object\n",
      "  driver = webdriver.Chrome(chromedriver,options=chrome_options)\n"
     ]
    },
    {
     "name": "stdout",
     "output_type": "stream",
     "text": [
      "2020\n",
      "2019\n",
      "2018\n",
      "2017\n",
      "2016\n",
      "2015\n"
     ]
    }
   ],
   "source": [
    "# Iniciar o driver\n",
    "driver = webdriver.Chrome(chromedriver,options=chrome_options)\n",
    "time.sleep(2)\n",
    "\n",
    "links_xls = {}\n",
    "for i in range(len(paginas)):\n",
    "    ano = 2025 - i - 5\n",
    "    print(ano)\n",
    "    links_xls[ano] = []\n",
    "    driver.get(paginas[i])\n",
    "    time.sleep(2)  # Espera o carregamento da página (ajuste conforme necessário)\n",
    "    \n",
    "    soup = BeautifulSoup(driver.page_source, 'html.parser')\n",
    "    \n",
    "    # Encontra todos os <a> com href terminando em .xls ou .xlsx\n",
    "    for a in soup.find_all('a', href=True):\n",
    "        href = a['href']\n",
    "        texto_link = a.get_text(strip=True)\n",
    "        \n",
    "        if (href.endswith('xls') or href.endswith('xlsx')) and texto_link.lower() != 'total':\n",
    "            # Caso o link seja relativo, ajusta com base na URL da página\n",
    "            if href.startswith('/'):\n",
    "                base_url = paginas[i].split('//')[0] + '//' + paginas[i].split('//')[1].split('/')[0]\n",
    "                href = base_url + href\n",
    "            links_xls[ano].append(href)\n",
    "\n",
    "driver.close()"
   ]
  },
  {
   "cell_type": "code",
   "execution_count": 4,
   "id": "a812720e",
   "metadata": {},
   "outputs": [
    {
     "name": "stdout",
     "output_type": "stream",
     "text": [
      "2020 366\n",
      "2019 365\n",
      "2018 365\n",
      "2017 365\n",
      "2016 366\n",
      "2015 365\n"
     ]
    }
   ],
   "source": [
    "for ano in links_xls:\n",
    "    print(ano,len(links_xls[ano]))"
   ]
  },
  {
   "cell_type": "code",
   "execution_count": 6,
   "id": "d7cfc433",
   "metadata": {},
   "outputs": [
    {
     "name": "stdout",
     "output_type": "stream",
     "text": [
      "2020\n",
      "2019\n",
      "2018\n",
      "2017\n",
      "Erro ao baixar 2017: http://http://www.prefeitura.sp.gov.br/cidade/secretarias/upload/Passag-20171108.xls: HTTPConnectionPool(host='http', port=80): Max retries exceeded with url: //www.prefeitura.sp.gov.br/cidade/secretarias/upload/Passag-20171108.xls (Caused by NewConnectionError('<urllib3.connection.HTTPConnection object at 0x0000010871570A30>: Failed to establish a new connection: [Errno 11001] getaddrinfo failed'))\n",
      "2016\n",
      "Erro ao baixar 2016: http://http://www.prefeitura.sp.gov.br/cidade/secretarias/upload/transportes/SPTrans/acesso_a_informacao/2016/outubro/passageiros/Passag-20161021.xls: HTTPConnectionPool(host='http', port=80): Max retries exceeded with url: //www.prefeitura.sp.gov.br/cidade/secretarias/upload/transportes/SPTrans/acesso_a_informacao/2016/outubro/passageiros/Passag-20161021.xls (Caused by NewConnectionError('<urllib3.connection.HTTPConnection object at 0x0000010871570B50>: Failed to establish a new connection: [Errno 11001] getaddrinfo failed'))\n",
      "2015\n"
     ]
    }
   ],
   "source": [
    "# Agora baixamos cada um dos arquivos encontrados\n",
    "for ano in links_xls:\n",
    "    print(ano)\n",
    "    for url in links_xls[ano]:\n",
    "        try:\n",
    "            response = requests.get(url)\n",
    "            nome_arquivo = url.split(\"/\")[-1]\n",
    "            caminho_completo = os.path.join(rf\"C:\\Users\\franc\\OneDrive\\Documentos\\TCC\\dados\\passageiros\\{ano}\", nome_arquivo)\n",
    "\n",
    "            with open(caminho_completo, \"wb\") as f:\n",
    "                f.write(response.content)\n",
    "\n",
    "        except Exception as e:\n",
    "            print(f\"Erro ao baixar {ano}: {url}: {e}\")"
   ]
  }
 ],
 "metadata": {
  "kernelspec": {
   "display_name": "base",
   "language": "python",
   "name": "python3"
  },
  "language_info": {
   "codemirror_mode": {
    "name": "ipython",
    "version": 3
   },
   "file_extension": ".py",
   "mimetype": "text/x-python",
   "name": "python",
   "nbconvert_exporter": "python",
   "pygments_lexer": "ipython3",
   "version": "3.9.13"
  }
 },
 "nbformat": 4,
 "nbformat_minor": 5
}
