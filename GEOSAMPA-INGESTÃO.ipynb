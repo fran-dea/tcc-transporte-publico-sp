{
 "cells": [
  {
   "cell_type": "code",
   "execution_count": 18,
   "id": "f09e631f",
   "metadata": {},
   "outputs": [],
   "source": [
    "import pandas as pd\n",
    "import geopandas as gpd\n",
    "import json\n",
    "import os\n",
    "import requests\n",
    "\n",
    "saida_dir = \"dados/GEOSAMPA-MAPA-TREM-E-METRO-SP\"\n",
    "df = pd.read_csv(\"dados/GEOSAMPA-MAPA-TREM-E-METRO-SP/metadados-GEOSAMPA.txt\" )\n"
   ]
  },
  {
   "cell_type": "code",
   "execution_count": 24,
   "id": "0058404b",
   "metadata": {},
   "outputs": [
    {
     "data": {
      "text/html": [
       "<div>\n",
       "<style scoped>\n",
       "    .dataframe tbody tr th:only-of-type {\n",
       "        vertical-align: middle;\n",
       "    }\n",
       "\n",
       "    .dataframe tbody tr th {\n",
       "        vertical-align: top;\n",
       "    }\n",
       "\n",
       "    .dataframe thead th {\n",
       "        text-align: right;\n",
       "    }\n",
       "</style>\n",
       "<table border=\"1\" class=\"dataframe\">\n",
       "  <thead>\n",
       "    <tr style=\"text-align: right;\">\n",
       "      <th></th>\n",
       "      <th>title</th>\n",
       "    </tr>\n",
       "  </thead>\n",
       "  <tbody>\n",
       "    <tr>\n",
       "      <th>0</th>\n",
       "      <td>Trem Metropolitano Projeto - Estação</td>\n",
       "    </tr>\n",
       "    <tr>\n",
       "      <th>1</th>\n",
       "      <td>Metrô Projeto - Estação</td>\n",
       "    </tr>\n",
       "    <tr>\n",
       "      <th>2</th>\n",
       "      <td>Trem Metropolitano - Estação</td>\n",
       "    </tr>\n",
       "    <tr>\n",
       "      <th>3</th>\n",
       "      <td>Metrô - Estação</td>\n",
       "    </tr>\n",
       "    <tr>\n",
       "      <th>4</th>\n",
       "      <td>Terminal de ônibus</td>\n",
       "    </tr>\n",
       "  </tbody>\n",
       "</table>\n",
       "</div>"
      ],
      "text/plain": [
       "                                  title\n",
       "0  Trem Metropolitano Projeto - Estação\n",
       "1               Metrô Projeto - Estação\n",
       "2          Trem Metropolitano - Estação\n",
       "3                       Metrô - Estação\n",
       "4                    Terminal de ônibus"
      ]
     },
     "execution_count": 24,
     "metadata": {},
     "output_type": "execute_result"
    }
   ],
   "source": [
    "df[['title']]"
   ]
  },
  {
   "cell_type": "markdown",
   "id": "6e8e4e9e",
   "metadata": {},
   "source": [
    "Procure os nomes para os títulos acima para poder baixar os arquivos: http://wfs.geosampa.prefeitura.sp.gov.br/geoserver/geoportal/wfs?service=WFS&version=1.1.0&request=GetCapabilities"
   ]
  },
  {
   "cell_type": "code",
   "execution_count": 26,
   "id": "7b9399fd",
   "metadata": {},
   "outputs": [
    {
     "name": "stdout",
     "output_type": "stream",
     "text": [
      "Baixando geoportal:estacao_metro_projetada para dados/GEOSAMPA-MAPA-TREM-E-METRO-SP\\estacao_metro_projetada.geojson...\n",
      "Download concluído.\n",
      "Baixando geoportal:estacao_metro para dados/GEOSAMPA-MAPA-TREM-E-METRO-SP\\estacao_metro.geojson...\n",
      "Download concluído.\n",
      "Baixando geoportal:estacao_trem_projetada para dados/GEOSAMPA-MAPA-TREM-E-METRO-SP\\estacao_trem_projetada.geojson...\n",
      "Download concluído.\n",
      "Baixando geoportal:estacao_trem para dados/GEOSAMPA-MAPA-TREM-E-METRO-SP\\estacao_trem.geojson...\n",
      "Download concluído.\n",
      "Baixando geoportal:terminal_onibus para dados/GEOSAMPA-MAPA-TREM-E-METRO-SP\\terminal_onibus.geojson...\n",
      "Download concluído.\n"
     ]
    }
   ],
   "source": [
    "def baixar_wfs(camada, output_format, pasta, nome_arquivo):\n",
    "    url_base = \"http://wfs.geosampa.prefeitura.sp.gov.br/geoserver/geoportal/wfs\"\n",
    "    params = {\n",
    "        \"service\": \"WFS\",\n",
    "        \"version\": \"1.1.0\",\n",
    "        \"request\": \"GetFeature\",\n",
    "        \"typeName\": camada,\n",
    "        \"outputFormat\": output_format  \n",
    "    }\n",
    "\n",
    "    os.makedirs(pasta, exist_ok=True)\n",
    "    caminho_arquivo = os.path.join(pasta, nome_arquivo)\n",
    "\n",
    "    print(f\"Baixando {camada} para {caminho_arquivo}...\")\n",
    "\n",
    "    response = requests.get(url_base, params=params)\n",
    "    if response.status_code == 200:\n",
    "        with open(caminho_arquivo, \"wb\") as f:\n",
    "            f.write(response.content)\n",
    "        print(\"Download concluído.\")\n",
    "    else:\n",
    "        print(\"Erro ao baixar:\", response.status_code)\n",
    "\n",
    "\n",
    "camadas_baixar=[ \"geoportal:estacao_metro_projetada\" ,\n",
    "                'geoportal:estacao_metro',\n",
    "                'geoportal:estacao_trem_projetada',\n",
    "                'geoportal:estacao_trem',\n",
    "                'geoportal:terminal_onibus'                \n",
    "                ]\n",
    "for nome_camada in camadas_baixar:\n",
    "    baixar_wfs(nome_camada, \"application/json\", \"dados/GEOSAMPA-MAPA-TREM-E-METRO-SP\", nome_camada.replace(\"geoportal:\",\"\")+\".geojson\")"
   ]
  }
 ],
 "metadata": {
  "kernelspec": {
   "display_name": "Python 3",
   "language": "python",
   "name": "python3"
  },
  "language_info": {
   "codemirror_mode": {
    "name": "ipython",
    "version": 3
   },
   "file_extension": ".py",
   "mimetype": "text/x-python",
   "name": "python",
   "nbconvert_exporter": "python",
   "pygments_lexer": "ipython3",
   "version": "3.11.9"
  }
 },
 "nbformat": 4,
 "nbformat_minor": 5
}
