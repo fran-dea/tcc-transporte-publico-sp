{
 "cells": [
  {
   "cell_type": "code",
   "execution_count": 11,
   "id": "21d057be",
   "metadata": {},
   "outputs": [
    {
     "name": "stdout",
     "output_type": "stream",
     "text": [
      "Requirement already satisfied: pyarrow in c:\\users\\franc\\anaconda3\\lib\\site-packages (19.0.1)\n"
     ]
    }
   ],
   "source": [
    "!pip install pyarrow\n"
   ]
  },
  {
   "cell_type": "code",
   "execution_count": 12,
   "id": "016b794c",
   "metadata": {},
   "outputs": [],
   "source": [
    "import pandas as pd\n",
    "import os\n",
    "\n",
    "# Caminho da pasta com arquivos .xls\n",
    "caminho_pasta = r\"C:\\Users\\franc\\OneDrive\\Documentos\\TCC\\dados\\passageiros\"\n",
    "saida=r\"C:\\Users\\franc\\OneDrive\\Documentos\\TCC\\dados\\passageiros_parquet\"\n",
    "\n",
    "def listar_todos_arquivos(diretorio_raiz, extensao=None):\n",
    "    arquivos_encontrados = []\n",
    "    for raiz, _, arquivos in os.walk(diretorio_raiz):\n",
    "        for arquivo in arquivos:\n",
    "            if extensao:\n",
    "                if arquivo.lower().endswith(extensao.lower()):\n",
    "                    arquivos_encontrados.append(os.path.join(raiz, arquivo))\n",
    "            else:\n",
    "                arquivos_encontrados.append(os.path.join(raiz, arquivo))\n",
    "    return arquivos_encontrados"
   ]
  },
  {
   "cell_type": "code",
   "execution_count": 13,
   "id": "0c69fafc",
   "metadata": {},
   "outputs": [],
   "source": [
    "arquivos = listar_todos_arquivos(caminho_pasta,extensao='xls')"
   ]
  },
  {
   "cell_type": "code",
   "execution_count": 14,
   "id": "0f2e8fc7",
   "metadata": {},
   "outputs": [
    {
     "data": {
      "text/plain": [
       "3737"
      ]
     },
     "execution_count": 14,
     "metadata": {},
     "output_type": "execute_result"
    }
   ],
   "source": [
    "len(arquivos)"
   ]
  },
  {
   "cell_type": "code",
   "execution_count": 15,
   "id": "0c4172c0",
   "metadata": {},
   "outputs": [
    {
     "name": "stdout",
     "output_type": "stream",
     "text": [
      "Erro em  C:\\Users\\franc\\OneDrive\\Documentos\\TCC\\dados\\passageiros\\2018\\01062018.xls\n",
      "Erro em  C:\\Users\\franc\\OneDrive\\Documentos\\TCC\\dados\\passageiros\\2018\\01092018.xls\n",
      "Erro em  C:\\Users\\franc\\OneDrive\\Documentos\\TCC\\dados\\passageiros\\2018\\03122018_Dados para Transparência.xls\n",
      "Erro em  C:\\Users\\franc\\OneDrive\\Documentos\\TCC\\dados\\passageiros\\2018\\06062018.xls\n",
      "Erro em  C:\\Users\\franc\\OneDrive\\Documentos\\TCC\\dados\\passageiros\\2018\\07062018.xls\n",
      "Erro em  C:\\Users\\franc\\OneDrive\\Documentos\\TCC\\dados\\passageiros\\2018\\08062018.xls\n",
      "Erro em  C:\\Users\\franc\\OneDrive\\Documentos\\TCC\\dados\\passageiros\\2018\\10112018_Dados para Transparência.xls\n",
      "Erro em  C:\\Users\\franc\\OneDrive\\Documentos\\TCC\\dados\\passageiros\\2018\\12112018_Dados para Transparência.xls\n",
      "Erro em  C:\\Users\\franc\\OneDrive\\Documentos\\TCC\\dados\\passageiros\\2018\\14092018.xls\n",
      "Erro em  C:\\Users\\franc\\OneDrive\\Documentos\\TCC\\dados\\passageiros\\2018\\15102018_Dados para Transparência.xls\n",
      "Erro em  C:\\Users\\franc\\OneDrive\\Documentos\\TCC\\dados\\passageiros\\2018\\20062018.xls\n",
      "Erro em  C:\\Users\\franc\\OneDrive\\Documentos\\TCC\\dados\\passageiros\\2018\\21052018.xls\n",
      "Erro em  C:\\Users\\franc\\OneDrive\\Documentos\\TCC\\dados\\passageiros\\2018\\210718.xls\n",
      "Erro em  C:\\Users\\franc\\OneDrive\\Documentos\\TCC\\dados\\passageiros\\2018\\22092018_Dados para Transparência.xls\n",
      "Erro em  C:\\Users\\franc\\OneDrive\\Documentos\\TCC\\dados\\passageiros\\2018\\23082018.xls\n",
      "Erro em  C:\\Users\\franc\\OneDrive\\Documentos\\TCC\\dados\\passageiros\\2018\\24082018.xls\n",
      "Erro em  C:\\Users\\franc\\OneDrive\\Documentos\\TCC\\dados\\passageiros\\2018\\26052018.xls\n",
      "Erro em  C:\\Users\\franc\\OneDrive\\Documentos\\TCC\\dados\\passageiros\\2018\\28062016(1).xls\n",
      "Erro em  C:\\Users\\franc\\OneDrive\\Documentos\\TCC\\dados\\passageiros\\2019\\01JUL2019.xls\n",
      "Erro em  C:\\Users\\franc\\OneDrive\\Documentos\\TCC\\dados\\passageiros\\2019\\04JUN2019.xls\n",
      "Erro em  C:\\Users\\franc\\OneDrive\\Documentos\\TCC\\dados\\passageiros\\2019\\05-FEV.xls\n",
      "Erro em  C:\\Users\\franc\\OneDrive\\Documentos\\TCC\\dados\\passageiros\\2019\\06AGO2019.xls\n",
      "Erro em  C:\\Users\\franc\\OneDrive\\Documentos\\TCC\\dados\\passageiros\\2019\\07JUL2019.xls\n",
      "Erro em  C:\\Users\\franc\\OneDrive\\Documentos\\TCC\\dados\\passageiros\\2019\\08NOV2019.xls\n",
      "Erro em  C:\\Users\\franc\\OneDrive\\Documentos\\TCC\\dados\\passageiros\\2019\\09-FEV.xls\n",
      "Erro em  C:\\Users\\franc\\OneDrive\\Documentos\\TCC\\dados\\passageiros\\2019\\09NOV2019.xls\n",
      "Erro em  C:\\Users\\franc\\OneDrive\\Documentos\\TCC\\dados\\passageiros\\2019\\11JUN2019.xls\n",
      "Erro em  C:\\Users\\franc\\OneDrive\\Documentos\\TCC\\dados\\passageiros\\2019\\16DEZ2019.xls\n",
      "Erro em  C:\\Users\\franc\\OneDrive\\Documentos\\TCC\\dados\\passageiros\\2019\\16JUL2019.xls\n",
      "Erro em  C:\\Users\\franc\\OneDrive\\Documentos\\TCC\\dados\\passageiros\\2019\\16JUN2019.xls\n",
      "Erro em  C:\\Users\\franc\\OneDrive\\Documentos\\TCC\\dados\\passageiros\\2019\\16MAI2019.xls\n",
      "Erro em  C:\\Users\\franc\\OneDrive\\Documentos\\TCC\\dados\\passageiros\\2019\\17MAR2019.xls\n",
      "Erro em  C:\\Users\\franc\\OneDrive\\Documentos\\TCC\\dados\\passageiros\\2019\\19012019_Dados para Transparência.xls\n",
      "Erro em  C:\\Users\\franc\\OneDrive\\Documentos\\TCC\\dados\\passageiros\\2019\\20-FEV.xls\n",
      "Erro em  C:\\Users\\franc\\OneDrive\\Documentos\\TCC\\dados\\passageiros\\2019\\21-FEV.xls\n",
      "Erro em  C:\\Users\\franc\\OneDrive\\Documentos\\TCC\\dados\\passageiros\\2019\\26MAI2019.xls\n",
      "Erro em  C:\\Users\\franc\\OneDrive\\Documentos\\TCC\\dados\\passageiros\\2019\\28OUT2019.xls\n",
      "Erro em  C:\\Users\\franc\\OneDrive\\Documentos\\TCC\\dados\\passageiros\\2019\\29SET2019.xls\n",
      "Erro em  C:\\Users\\franc\\OneDrive\\Documentos\\TCC\\dados\\passageiros\\2019\\30DEZ2019.xls\n",
      "Erro em  C:\\Users\\franc\\OneDrive\\Documentos\\TCC\\dados\\passageiros\\2019\\31-JAN.xls\n",
      "Erro em  C:\\Users\\franc\\OneDrive\\Documentos\\TCC\\dados\\passageiros\\2020\\02AGO2020.xls\n",
      "Erro em  C:\\Users\\franc\\OneDrive\\Documentos\\TCC\\dados\\passageiros\\2020\\02JUL2020.xls\n",
      "Erro em  C:\\Users\\franc\\OneDrive\\Documentos\\TCC\\dados\\passageiros\\2020\\02SET2020.xls\n",
      "Erro em  C:\\Users\\franc\\OneDrive\\Documentos\\TCC\\dados\\passageiros\\2020\\07NOV2020.xls\n",
      "Erro em  C:\\Users\\franc\\OneDrive\\Documentos\\TCC\\dados\\passageiros\\2020\\09JAN2020.xls\n",
      "Erro em  C:\\Users\\franc\\OneDrive\\Documentos\\TCC\\dados\\passageiros\\2020\\11JAN2020.xls\n",
      "Erro em  C:\\Users\\franc\\OneDrive\\Documentos\\TCC\\dados\\passageiros\\2020\\14SET2020.xls\n",
      "Erro em  C:\\Users\\franc\\OneDrive\\Documentos\\TCC\\dados\\passageiros\\2020\\19SET2020.xls\n",
      "Erro em  C:\\Users\\franc\\OneDrive\\Documentos\\TCC\\dados\\passageiros\\2020\\24FEV2020.xls\n",
      "Erro em  C:\\Users\\franc\\OneDrive\\Documentos\\TCC\\dados\\passageiros\\2020\\25JAN2020.xls\n",
      "Erro em  C:\\Users\\franc\\OneDrive\\Documentos\\TCC\\dados\\passageiros\\2020\\27OUT2020.xls\n",
      "Erro em  C:\\Users\\franc\\OneDrive\\Documentos\\TCC\\dados\\passageiros\\2021\\02FEV2021.xls\n",
      "Erro em  C:\\Users\\franc\\OneDrive\\Documentos\\TCC\\dados\\passageiros\\2021\\10FEV2021.xls\n",
      "Erro em  C:\\Users\\franc\\OneDrive\\Documentos\\TCC\\dados\\passageiros\\2022\\05JUL2022.xls\n",
      "Erro em  C:\\Users\\franc\\OneDrive\\Documentos\\TCC\\dados\\passageiros\\2022\\07NOV2022.xls\n",
      "Erro em  C:\\Users\\franc\\OneDrive\\Documentos\\TCC\\dados\\passageiros\\2022\\29NOV2022.xls\n",
      "WARNING *** file size (479631) not 512 + multiple of sector size (512)\n",
      "WARNING *** file size (479631) not 512 + multiple of sector size (512)\n",
      "Erro em  C:\\Users\\franc\\OneDrive\\Documentos\\TCC\\dados\\passageiros\\2023\\09MAI2023.xls\n",
      "Erro em  C:\\Users\\franc\\OneDrive\\Documentos\\TCC\\dados\\passageiros\\2023\\29MAI2023.xls\n"
     ]
    }
   ],
   "source": [
    "# transforma os xls em parquet e unifica, para otimizar\n",
    "dfs=[]\n",
    "\n",
    "for arquivo in arquivos:\n",
    "    try:\n",
    "        caminho_arquivo = os.path.join(caminho_pasta, arquivo)\n",
    "\n",
    "        # Lê o arquivo com pandas\n",
    "        try: df_pd = pd.read_excel(caminho_arquivo,dtype=str)\n",
    "        except: df_pd = pd.read_excel(caminho_arquivo)\n",
    "\n",
    "        if not 'linha' in \" \".join([x.lower() for x in df_pd.columns]):\n",
    "            # Encontra a linha que contém \"linha\" para usar como cabeçalho\n",
    "            idx_cabecalho = df_pd.apply(lambda row: row.astype(str).str.lower().str.contains(\"linha\", case=False).any(), axis=1).idxmax()\n",
    "            colunas = df_pd.iloc[idx_cabecalho].astype(str).str.strip().str.lower().tolist()\n",
    "\n",
    "            # Lê os dados a partir da linha seguinte ao cabeçalho\n",
    "            df_dados = df_pd.iloc[idx_cabecalho + 1:].reset_index(drop=True)\n",
    "            df_dados.columns = colunas\n",
    "        else:\n",
    "            df_dados=df_pd\n",
    "\n",
    "        df_dados['arquivo']=arquivo\n",
    "        dfs.append(df_dados)\n",
    "        caminho_parquet = os.path.join(saida, f\"{arquivo.split('.')[0]}.parquet\")\n",
    "        df_dados.fillna(\"\").to_parquet(caminho_parquet, index=False)\n",
    "    except: print(\"Erro em \",arquivo)\n"
   ]
  },
  {
   "cell_type": "code",
   "execution_count": 16,
   "id": "6f7707a0",
   "metadata": {},
   "outputs": [],
   "source": [
    "#le parquets para pegar as colunas únicas e começar as transformações\n",
    "# Lista de arquivos .parquet na pasta\n",
    "arquivos_parquet = listar_todos_arquivos(caminho_pasta,extensao='parquet')\n",
    "# print(len(arquivos_parquet), len(arquivos), len(dfs))\n"
   ]
  },
  {
   "cell_type": "code",
   "execution_count": 17,
   "id": "ce5d6c64",
   "metadata": {},
   "outputs": [
    {
     "name": "stdout",
     "output_type": "stream",
     "text": [
      "Colunas únicas: ['area', 'arquivo', 'data', 'empresa', 'grupo', 'linha', 'lote', 'passageiros com gratuidade', 'passageiros com gratuidade\\n\\n(l)', 'passageiros com gratuidade est', 'passageiros com gratuidade estudante\\n\\n(m)', 'passageiros com gratuidade estudante\\n\\n(n)', 'passageiros comum e vt', 'passageiros int ônibus->ônibus', 'passageiros integrações ônibus -> ônibus\\n\\n(k)', 'passageiros pagantes', 'passageiros pagantes\\n\\n(j) = (a+b+c+d+e+f+g+h+i)', 'passageiros pagantes bilhete único comum\\n\\n(b)', 'passageiros pagantes bilhete único comum mensal\\n\\n(c)', 'passageiros pagantes bilhete único estudante\\n\\n(d) ', 'passageiros pagantes bilhete único estudante mensal\\n\\n(e) ', 'passageiros pagantes bilhete único vale transporte\\n\\n(f)', 'passageiros pagantes bilhete único vale transporte mensal\\n\\n(g)', 'passageiros pagantes em dinheiro\\n\\n(a)', 'passageiros pagantes integrações metrô e cptm\\n\\n(h)', 'passageiros pagantes integrações metrô e cptm mensal\\n\\n(i)', 'passageiros pagtes bu vt', 'passageiros pagtes comum', 'passageiros pagtes em dinheiro', 'passageiros pagtes estudante', 'passageiros pagtes int m/cptm', 'passageiros pgts bu comum m', 'passageiros pgts bu est mensal', 'passageiros pgts bu vt mensal', 'passageiros pgts int m/cptm m', 'tipo', 'tot passageiros transportados', 'total passageiros transportados\\n\\n(m) = (j + k + l)', 'total passageiros transportados\\n\\n(m) = (j + k + l+n)', 'total passageiros transportados\\n\\n(n) = (j + k + l + m)']\n"
     ]
    }
   ],
   "source": [
    "# Lista para armazenar as colunas de cada dataframe\n",
    "colunas_df = []\n",
    "dfs=[]\n",
    "\n",
    "# Lê os arquivos .parquet e armazena as colunas de cada dataframe\n",
    "for arquivo in arquivos_parquet:\n",
    "    caminho_arquivo = os.path.join(saida, arquivo)\n",
    "    # Lê o parquet no pandas\n",
    "    df = pd.read_parquet(caminho_arquivo)\n",
    "    colunas_df.append([x.lower() for x in df.columns])\n",
    "    dfs.append(df)\n",
    "\n",
    "#para visualização das colunas únicas\n",
    "colunas_df = [list(x) for x in set(tuple(x) for x in colunas_df)]\n",
    "lista=[]\n",
    "for x in colunas_df: lista+= x\n",
    "\n",
    "lista=list(set(lista))\n",
    "lista.sort()\n",
    "print(\"Colunas únicas:\" , lista)"
   ]
  },
  {
   "cell_type": "code",
   "execution_count": 18,
   "id": "77395f11",
   "metadata": {},
   "outputs": [],
   "source": [
    "renaming_dict={'area':\"area\",\n",
    " 'arquivo':\"arquivo\",\n",
    " 'data':\"data\",\n",
    " 'empresa':\"empresa\",\n",
    " 'grupo':\"grupo\",\n",
    " 'linha':\"linha\",\n",
    " 'lote':\"lote\",\n",
    " 'passageiros com gratuidade':\"passageiros_gratuitos\",\n",
    " 'passageiros com gratuidade\\n\\n(l)':\"passageiros_gratuitos\",\n",
    " 'passageiros com gratuidade est':\"passageiros_gratuitos_estudante\",\n",
    " 'passageiros com gratuidade estudante\\n\\n(m)':\"passageiros_gratuitos_estudante\",\n",
    " 'passageiros com gratuidade estudante\\n\\n(n)':\"passageiros_gratuitos_estudante\",\n",
    " 'passageiros comum e vt':\"passageiros_comum_vt\",\n",
    " 'passageiros int ônibus->ônibus':\"passageiros_integracao_onibus\",\n",
    " 'passageiros integrações ônibus -> ônibus\\n\\n(k)':\"passageiros_integracao_onibus\",\n",
    " 'passageiros pagantes':\"passageiros_pagantes\",\n",
    " 'passageiros pagantes\\n\\n(j) = (a+b+c+d+e+f+g+h+i)':\"passageiros_pagantes\",\n",
    " 'passageiros pagantes bilhete único comum\\n\\n(b)':\"passageiros_comum\",\n",
    " 'passageiros pagantes bilhete único comum mensal\\n\\n(c)':\"passageiros_comum_mensal\",\n",
    " 'passageiros pagantes bilhete único estudante\\n\\n(d) ':\"passageiros_estudante\",\n",
    " 'passageiros pagantes bilhete único estudante mensal\\n\\n(e) ':\"passageiros_estudante_mensal\",\n",
    " 'passageiros pagantes bilhete único vale transporte\\n\\n(f)':\"passageiros_vale_transporte\",\n",
    " 'passageiros pagantes bilhete único vale transporte mensal\\n\\n(g)':\"passageiros_vale_transporte_mensal\",\n",
    " 'passageiros pagantes em dinheiro\\n\\n(a)':\"passageiros_dinheiro\",\n",
    " 'passageiros pagantes integrações metrô e cptm\\n\\n(h)':\"passageiros_integracao_metro_cptm\",\n",
    " 'passageiros pagantes integrações metrô e cptm mensal\\n\\n(i)':\"passageiros_integracao_metro_cptm_mensal\",\n",
    " 'passageiros pagtes bu vt':\"passageiros_comum_vt\",\n",
    " 'passageiros pagtes comum':\"passageiros_comum\",\n",
    " 'passageiros pagtes em dinheiro':\"passageiros_dinheiro\",\n",
    " 'passageiros pagtes estudante':\"passageiros_estudante\",\n",
    " 'passageiros pagtes int m/cptm':\"passageiros_integracao_metro_cptm\",\n",
    " 'passageiros pgts bu comum m':\"passageiros_comum_mensal\",\n",
    " 'passageiros pgts bu est mensal':\"passageiros_estudante_mensal\",\n",
    " 'passageiros pgts bu vt mensal':\"passageiros_vale_transporte_mensal\",\n",
    " 'passageiros pgts int m/cptm m':\"passageiros_integracao_metro_cptm_mensal\",\n",
    " 'soma de passageiros com gratuidade\\n\\n(l)':\"passageiros_gratuitos\",\n",
    " 'soma de passageiros com gratuidade estudante\\n\\n(m)':\"passageiros_gratuitos_estudante\",\n",
    " 'soma de passageiros integrações ônibus -> ônibus\\n\\n(k)':\"passageiros_integracao_onibus\",\n",
    " 'soma de passageiros pagantes\\n\\n(j) = (a+b+c+d+e+f+g+h+i)':\"passageiros_pagantes\",\n",
    " 'soma de passageiros pagantes bilhete único comum\\n\\n(b)':\"passageiros_comum\",\n",
    " 'soma de passageiros pagantes bilhete único comum mensal\\n\\n(c)':\"passageiros_comum_mensal\",\n",
    " 'soma de passageiros pagantes bilhete único estudante\\n\\n(d) ':\"passageiros_estudante\",\n",
    " 'soma de passageiros pagantes bilhete único estudante mensal\\n\\n(e) ':\"passageiros_estudante_mensal\",\n",
    " 'soma de passageiros pagantes bilhete único vale transporte\\n\\n(f)':\"passageiros_vale_transporte\",\n",
    " 'soma de passageiros pagantes bilhete único vale transporte mensal\\n\\n(g)':\"passageiros_vale_transporte_mensal\",\n",
    " 'soma de passageiros pagantes em dinheiro\\n\\n(a)':\"passageiros_dinheiro\",\n",
    " 'soma de passageiros pagantes integrações metrô e cptm\\n\\n(h)':\"passageiros_integracao_metro_cptm\",\n",
    " 'soma de passageiros pagantes integrações metrô e cptm mensal\\n\\n(i)':\"passageiros_integracao_metro_cptm_mensal\",\n",
    " 'soma de total passageiros transportados\\n\\n(n) = (j + k + l + m)':'passageiros_total',\n",
    " 'tipo':\"tipo\",\n",
    " 'tot passageiros transportados':'passageiros_total',\n",
    " 'total passageiros transportados\\n\\n(m) = (j + k + l )':'passageiros_total',\n",
    " 'total passageiros transportados\\n\\n(m) = (j + k + l)':'passageiros_total',\n",
    " 'total passageiros transportados\\n\\n(m) = (j + k + l+n)':'passageiros_total',\n",
    " 'total passageiros transportados\\n\\n(n) = (j + k + l + m)':'passageiros_total'\n",
    " }"
   ]
  },
  {
   "cell_type": "code",
   "execution_count": 20,
   "id": "de30ba66",
   "metadata": {},
   "outputs": [],
   "source": [
    "df_unificado=pd.DataFrame()\n",
    "for df in dfs:\n",
    "    df.columns=[x.lower() for x in df.columns]\n",
    "    df=df.rename(columns=renaming_dict)\n",
    "    df_unificado=pd.concat([df_unificado,df])"
   ]
  },
  {
   "cell_type": "code",
   "execution_count": null,
   "id": "d8d3da3f",
   "metadata": {},
   "outputs": [],
   "source": [
    "df_unificado['data'] = pd.to_datetime(df_unificado['data'], errors='coerce')\n",
    "df_unificado['route_id']=df_unificado['linha'].fillna(\"\").apply(lambda x: x.split(\" \")[0].replace(\"-\",\"\").title())"
   ]
  },
  {
   "cell_type": "code",
   "execution_count": 27,
   "id": "85c52e02",
   "metadata": {},
   "outputs": [
    {
     "name": "stdout",
     "output_type": "stream",
     "text": [
      "passageiros_dinheiro\n",
      "passageiros_comum\n",
      "passageiros_comum_mensal\n",
      "passageiros_estudante\n",
      "passageiros_estudante_mensal\n",
      "passageiros_vale_transporte\n",
      "passageiros_vale_transporte_mensal\n",
      "passageiros_integracao_metro_cptm\n",
      "passageiros_integracao_metro_cptm_mensal\n",
      "passageiros_pagantes\n",
      "passageiros_integracao_onibus\n",
      "passageiros_gratuitos\n",
      "passageiros_total\n",
      "passageiros_gratuitos_estudante\n",
      "passageiros_comum_vt\n"
     ]
    }
   ],
   "source": [
    "for c in [x for x in df_unificado.columns if 'passageiro' in x]: print(c);df_unificado[c]=df_unificado[c].fillna(0).str.replace(\"\",\"0\").astype('Int64') "
   ]
  },
  {
   "cell_type": "code",
   "execution_count": 28,
   "id": "08fd23b3",
   "metadata": {},
   "outputs": [],
   "source": [
    "colunas_agrupar=['passageiros_comum_mensal',\n",
    "       'passageiros_estudante_mensal',\n",
    "       'passageiros_vale_transporte_mensal',\n",
    "       'passageiros_integracao_metro_cptm',\n",
    "       'passageiros_integracao_metro_cptm_mensal',\n",
    "       'passageiros_integracao_onibus', \n",
    "       'passageiros_gratuitos_estudante',\n",
    "       'passageiros_comum_vt', ]\n",
    "\n",
    "df_unificado['passageiros_vale_transporte']+= df_unificado['passageiros_comum_vt'] + df_unificado['passageiros_vale_transporte_mensal']\n",
    "df_unificado['passageiros_integracao']= df_unificado['passageiros_integracao_metro_cptm'] + df_unificado['passageiros_integracao_metro_cptm_mensal'] + df_unificado['passageiros_integracao_onibus']\n",
    "df_unificado['passageiros_comum']+=df_unificado['passageiros_comum_mensal']\n",
    "df_unificado['passageiros_estudante']+=df_unificado['passageiros_estudante_mensal']"
   ]
  },
  {
   "cell_type": "code",
   "execution_count": 29,
   "id": "36c2aa1c",
   "metadata": {},
   "outputs": [],
   "source": [
    "df_unificado.to_parquet('dados/passageiros_unificado.parquet', index=False)"
   ]
  },
  {
   "cell_type": "code",
   "execution_count": 30,
   "id": "7c8cd5bb",
   "metadata": {},
   "outputs": [
    {
     "data": {
      "text/plain": [
       "(4937029, 25)"
      ]
     },
     "execution_count": 30,
     "metadata": {},
     "output_type": "execute_result"
    }
   ],
   "source": [
    "df_unificado.shape"
   ]
  }
 ],
 "metadata": {
  "kernelspec": {
   "display_name": "base",
   "language": "python",
   "name": "python3"
  },
  "language_info": {
   "codemirror_mode": {
    "name": "ipython",
    "version": 3
   },
   "file_extension": ".py",
   "mimetype": "text/x-python",
   "name": "python",
   "nbconvert_exporter": "python",
   "pygments_lexer": "ipython3",
   "version": "3.9.13"
  }
 },
 "nbformat": 4,
 "nbformat_minor": 5
}
